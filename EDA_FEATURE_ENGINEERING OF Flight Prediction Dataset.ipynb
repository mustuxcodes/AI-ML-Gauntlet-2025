{
 "cells": [
  {
   "cell_type": "code",
   "execution_count": 1,
   "id": "374d0347-66b9-4579-a9b9-a6e679a9ddb2",
   "metadata": {},
   "outputs": [],
   "source": [
    "import numpy as np\n",
    "import pandas as pd\n",
    "import matplotlib as plt\n",
    "import seaborn as sbn"
   ]
  },
  {
   "cell_type": "code",
   "execution_count": null,
   "id": "98e848f1-438b-4b26-889b-a189a9b47fe3",
   "metadata": {},
   "outputs": [],
   "source": [
    "df = pd.read_excel('/Users/mustajabmalik/Downloads/flight_price.xlsx')\n",
    "df.head()"
   ]
  },
  {
   "cell_type": "code",
   "execution_count": null,
   "id": "d5c71896-a8ad-4644-bb09-4cb106b943f2",
   "metadata": {},
   "outputs": [],
   "source": [
    "df.info()"
   ]
  },
  {
   "cell_type": "code",
   "execution_count": null,
   "id": "57df647c-0a7c-4004-8683-651a576f84dd",
   "metadata": {},
   "outputs": [],
   "source": [
    "df.dtypes"
   ]
  },
  {
   "cell_type": "code",
   "execution_count": null,
   "id": "7033daf9-26b5-4d3e-b1a1-2b35476c0f09",
   "metadata": {},
   "outputs": [],
   "source": [
    "df.isnull().sum()"
   ]
  },
  {
   "cell_type": "code",
   "execution_count": null,
   "id": "f20284f2-2843-4825-aeb8-00785dc6c6aa",
   "metadata": {},
   "outputs": [],
   "source": [
    "df.describe()\n",
    "\n",
    "#it is giving me a price one only becoz only variable here is in int, rest all of them in obj type which is string basically"
   ]
  },
  {
   "cell_type": "markdown",
   "id": "23266cbb-ad0a-428d-9af4-8f844a6f2aab",
   "metadata": {},
   "source": [
    "### Lets do that on the basis of date one first"
   ]
  },
  {
   "cell_type": "code",
   "execution_count": null,
   "id": "bc66ad69-c53a-4b4d-8037-ba0c8c9675a6",
   "metadata": {},
   "outputs": [],
   "source": [
    "df['Date']=df['Date_of_Journey'].str.split('/').str[0]\n",
    "df['Month'] = df['Date_of_Journey'].str.split('/').str[1]\n",
    "df['Year'] = df['Date_of_Journey'].str.split('/').str[1]"
   ]
  },
  {
   "cell_type": "code",
   "execution_count": null,
   "id": "8ed920c2-edd3-4d3f-8b36-589637b5c83d",
   "metadata": {},
   "outputs": [],
   "source": [
    "df.head()"
   ]
  },
  {
   "cell_type": "code",
   "execution_count": null,
   "id": "18ca77e4-8cf6-4a39-9037-8d6a62179646",
   "metadata": {},
   "outputs": [],
   "source": [
    "df.dtypes"
   ]
  },
  {
   "cell_type": "code",
   "execution_count": null,
   "id": "18af08ff-c281-42df-b5a9-e6269bea0c03",
   "metadata": {},
   "outputs": [],
   "source": [
    "df['Date'] = df['Date'].astype(int)\n",
    "df['Month'] = df['Month'].astype(int)\n",
    "df['Year'] = df ['Year'].astype(int)"
   ]
  },
  {
   "cell_type": "code",
   "execution_count": null,
   "id": "dba4bc88-d052-44a1-b5aa-680183e0a0f3",
   "metadata": {},
   "outputs": [],
   "source": [
    "df.dtypes"
   ]
  },
  {
   "cell_type": "code",
   "execution_count": null,
   "id": "36ecf5db-d871-4e49-968d-dd49d15099b8",
   "metadata": {},
   "outputs": [],
   "source": [
    "df = df.drop('Date_of_Journey', axis=1,)\n",
    "\n",
    "#already execeuted thats why giving me this, else its fine and correct"
   ]
  },
  {
   "cell_type": "code",
   "execution_count": null,
   "id": "be45334a-ba3e-4d2b-955f-b09cac8f4954",
   "metadata": {},
   "outputs": [],
   "source": [
    "df.head()"
   ]
  },
  {
   "cell_type": "code",
   "execution_count": null,
   "id": "6f7aa56d-5626-462e-8472-cd51d68b095b",
   "metadata": {},
   "outputs": [],
   "source": [
    "df.tail()"
   ]
  },
  {
   "cell_type": "markdown",
   "id": "345fa1c6-d463-47a2-bd1f-d1c9c130dc04",
   "metadata": {},
   "source": [
    "### Now i will be doing for Departure time"
   ]
  },
  {
   "cell_type": "code",
   "execution_count": null,
   "id": "444677cd-8f7e-4ca8-b72e-8e7f2ef7909f",
   "metadata": {},
   "outputs": [],
   "source": [
    "df['Dep_Hour'] = df['Dep_Time'].str.split(':').str[0]\n",
    "df['Dep_Min'] = df['Dep_Time'].str.split(':').str[1]\n"
   ]
  },
  {
   "cell_type": "code",
   "execution_count": null,
   "id": "a00b8c59-9720-4098-b8fb-13c450f1271a",
   "metadata": {},
   "outputs": [],
   "source": [
    "df.head()"
   ]
  },
  {
   "cell_type": "code",
   "execution_count": null,
   "id": "beb3e41e-6d87-490a-80aa-1dd8acedbc6d",
   "metadata": {},
   "outputs": [],
   "source": [
    "df.dtypes"
   ]
  },
  {
   "cell_type": "code",
   "execution_count": null,
   "id": "fed82fef-a9a7-48a1-bb17-a66ddf586115",
   "metadata": {},
   "outputs": [],
   "source": [
    "df['Dep_Hour'] = df['Dep_Hour'].astype(int)\n",
    "df['Dep_Min'] = df['Dep_Min'].astype(int)"
   ]
  },
  {
   "cell_type": "code",
   "execution_count": null,
   "id": "c52e51a4-f216-404e-8325-a186fab50f3a",
   "metadata": {},
   "outputs": [],
   "source": [
    "df.dtypes"
   ]
  },
  {
   "cell_type": "code",
   "execution_count": null,
   "id": "c22a7aee-4536-44a6-8dba-8423c70178e7",
   "metadata": {},
   "outputs": [],
   "source": [
    "df = df.drop(['Dep_Time'], axis=1)"
   ]
  },
  {
   "cell_type": "code",
   "execution_count": null,
   "id": "043894ce-e2c3-4fcc-a690-2d8f32365120",
   "metadata": {},
   "outputs": [],
   "source": [
    "df.head()"
   ]
  },
  {
   "cell_type": "markdown",
   "id": "a3e700dc-bf34-40e0-a6ce-02fc25faf288",
   "metadata": {},
   "source": [
    "### Now doing for the column named Arrival time"
   ]
  },
  {
   "cell_type": "code",
   "execution_count": null,
   "id": "9fb57556-5d6e-43cf-a933-9bb4176f0110",
   "metadata": {},
   "outputs": [],
   "source": [
    "df['Arrival_Time'] = df['Arrival_Time'].apply(lambda x:x.split(' ')[0])"
   ]
  },
  {
   "cell_type": "code",
   "execution_count": null,
   "id": "bc98c195-913b-4bb1-b393-ba2196f2a78f",
   "metadata": {},
   "outputs": [],
   "source": [
    "df['Arrival_hour'] = df['Arrival_Time'].str.split(':').str[0]\n",
    "df['Arrival_Min'] = df['Arrival_Time'].str.split(':').str[1]"
   ]
  },
  {
   "cell_type": "code",
   "execution_count": null,
   "id": "c7f476d2-b55b-4c48-a34e-5d10b9050bf6",
   "metadata": {},
   "outputs": [],
   "source": [
    "df.head()"
   ]
  },
  {
   "cell_type": "code",
   "execution_count": null,
   "id": "20239f74-7eb4-4ca7-8dba-d01ce2562e77",
   "metadata": {},
   "outputs": [],
   "source": [
    "df.drop('Arrival_Time', axis=1, inplace=True)"
   ]
  },
  {
   "cell_type": "code",
   "execution_count": null,
   "id": "808396fb-8030-491c-89db-69ac5d88d971",
   "metadata": {},
   "outputs": [],
   "source": [
    "df.head()"
   ]
  },
  {
   "cell_type": "code",
   "execution_count": null,
   "id": "692e8196-9d04-4652-954d-83a0f9862453",
   "metadata": {},
   "outputs": [],
   "source": [
    "df['Arrival_hour'] = df['Arrival_hour'].astype(int)\n",
    "df['Arrival_Min'] = df['Arrival_Min'].astype(int)"
   ]
  },
  {
   "cell_type": "code",
   "execution_count": null,
   "id": "853d14f9-8ecd-4b06-b286-3400942652df",
   "metadata": {},
   "outputs": [],
   "source": [
    "df.dtypes"
   ]
  },
  {
   "cell_type": "code",
   "execution_count": null,
   "id": "e59d3481-ce61-4f4c-95d6-bc81c3a9ebd0",
   "metadata": {},
   "outputs": [],
   "source": [
    "df.head()"
   ]
  },
  {
   "cell_type": "markdown",
   "id": "c46506de-2916-4d78-a386-92b35b0eaa07",
   "metadata": {},
   "source": [
    "### Now doing for duration column"
   ]
  },
  {
   "cell_type": "code",
   "execution_count": null,
   "id": "dcf771cf-345c-4b6a-9f09-8ef1893aaf76",
   "metadata": {},
   "outputs": [],
   "source": [
    "def convert_duration(x):\n",
    "    # Initialize default values\n",
    "    hours = 0\n",
    "    minutes = 0\n",
    "\n",
    "    # If 'h' is in the string, extract hours\n",
    "    if 'h' in x:\n",
    "        hours = int(x.split('h')[0].strip())\n",
    "\n",
    "    # If 'min' is in the string, extract minutes\n",
    "    if 'min' in x:\n",
    "        minutes_part = x.split('min')[0]\n",
    "        if 'h' in minutes_part:\n",
    "            minutes = int(minutes_part.split('h')[1].strip())\n",
    "        else:\n",
    "            minutes = int(minutes_part.strip())\n",
    "\n",
    "    return hours * 60 + minutes  # total duration in minutes\n",
    "\n",
    "# Apply it to your column\n",
    "df['Duration_in_Minutes'] = df['Duration'].apply(convert_duration)\n"
   ]
  },
  {
   "cell_type": "code",
   "execution_count": null,
   "id": "639f57ba-3538-479a-a91b-d5b7f9c7e30f",
   "metadata": {},
   "outputs": [],
   "source": [
    "df['Dur_Hour'] = df['Duration'].str.split('h').str[0]\n",
    "df['Dur_Min'] = df['Duration'].str.split('h').str[1]"
   ]
  },
  {
   "cell_type": "code",
   "execution_count": null,
   "id": "36e64762-16de-4935-97d1-01c90da27bfb",
   "metadata": {},
   "outputs": [],
   "source": [
    "df.head()"
   ]
  },
  {
   "cell_type": "code",
   "execution_count": null,
   "id": "85f8fa7f-99fc-49d6-a15c-b1ad57b9f430",
   "metadata": {},
   "outputs": [],
   "source": [
    "df = df.drop('Dur_Hour', axis=1)\n",
    "df = df.drop('Dur_Min', axis=1)"
   ]
  },
  {
   "cell_type": "code",
   "execution_count": null,
   "id": "c0386a24-8e5e-4b53-860f-e793f258a841",
   "metadata": {},
   "outputs": [],
   "source": [
    "df.head(3)"
   ]
  },
  {
   "cell_type": "code",
   "execution_count": null,
   "id": "d9f46303-ba56-469c-b2ce-52698abfa3d5",
   "metadata": {},
   "outputs": [],
   "source": [
    "df = df.drop('Duration', axis=1)"
   ]
  },
  {
   "cell_type": "code",
   "execution_count": null,
   "id": "54c2a866-a8c9-4c94-928b-216f8578c0d8",
   "metadata": {},
   "outputs": [],
   "source": [
    "df.head()"
   ]
  },
  {
   "cell_type": "code",
   "execution_count": null,
   "id": "812869fa-c715-4eb8-8661-340354c8df78",
   "metadata": {},
   "outputs": [],
   "source": [
    "df['Duration_in_Minutes']= df['Duration_in_Minutes'].astype(int)"
   ]
  },
  {
   "cell_type": "code",
   "execution_count": null,
   "id": "2a64120b-9b28-47a1-885d-c2ab0915c69a",
   "metadata": {},
   "outputs": [],
   "source": [
    "df.dtypes"
   ]
  },
  {
   "cell_type": "markdown",
   "id": "ccd520c7-a3d6-45b1-ac64-4de6fae51cff",
   "metadata": {},
   "source": [
    "### Now doing for categorical Data, lets see how it works"
   ]
  },
  {
   "cell_type": "code",
   "execution_count": null,
   "id": "e6ba16d3-6602-4b8d-87a0-4ff1e66f3dc3",
   "metadata": {},
   "outputs": [],
   "source": [
    "#lets do for total stops now\n",
    "\n",
    "df.head(3)"
   ]
  },
  {
   "cell_type": "code",
   "execution_count": null,
   "id": "2f375db3-a21e-4e9a-996b-3f172f7524d7",
   "metadata": {},
   "outputs": [],
   "source": [
    "df['Total_Stops'].unique()"
   ]
  },
  {
   "cell_type": "code",
   "execution_count": null,
   "id": "48e43911-648e-45d0-bd9f-8cc7d507fb23",
   "metadata": {},
   "outputs": [],
   "source": [
    "df['Total_Stops'].isnull().sum()"
   ]
  },
  {
   "cell_type": "code",
   "execution_count": null,
   "id": "4028899b-a892-46ba-b264-5f5442e06d78",
   "metadata": {},
   "outputs": [],
   "source": [
    "df[df['Total_Stops'].isnull()]"
   ]
  },
  {
   "cell_type": "code",
   "execution_count": null,
   "id": "81d075ed-6491-4ec5-b293-f1625f7d1772",
   "metadata": {},
   "outputs": [],
   "source": [
    "df['Total_Stops'].mode()"
   ]
  },
  {
   "cell_type": "code",
   "execution_count": null,
   "id": "4799fe2b-b5a2-4c0b-a258-dbb346c9788e",
   "metadata": {},
   "outputs": [],
   "source": [
    "df['Total_Stops'].count()"
   ]
  },
  {
   "cell_type": "code",
   "execution_count": null,
   "id": "4dad66c3-6985-437e-969e-5775697e8d83",
   "metadata": {},
   "outputs": [],
   "source": [
    "df['Total_Stops']= df['Total_Stops'].map({'non-stop':0,'2 stops':2, '1 stop':1, '3 stops':3, np.nan:1, '4 stops':4 })"
   ]
  },
  {
   "cell_type": "code",
   "execution_count": null,
   "id": "51c26780-6488-4aaa-adb2-ccf21d4bea2b",
   "metadata": {},
   "outputs": [],
   "source": [
    "df.head(5)"
   ]
  },
  {
   "cell_type": "code",
   "execution_count": null,
   "id": "cb76c28b-9936-4d02-b1a0-26920286c9cb",
   "metadata": {},
   "outputs": [],
   "source": [
    "df.dtypes"
   ]
  },
  {
   "cell_type": "code",
   "execution_count": null,
   "id": "f5d373e0-9218-4948-9298-a7f222141e6c",
   "metadata": {},
   "outputs": [],
   "source": [
    "df.drop(['Route'],axis=1, inplace=True)"
   ]
  },
  {
   "cell_type": "code",
   "execution_count": null,
   "id": "0b700f40-75fb-4c95-92d3-c5fdfe9bc574",
   "metadata": {},
   "outputs": [],
   "source": [
    "df.head()"
   ]
  },
  {
   "cell_type": "code",
   "execution_count": null,
   "id": "271acc91-0056-4d68-a4e3-539d4dd2559c",
   "metadata": {},
   "outputs": [],
   "source": [
    "df['Airline'].unique()"
   ]
  },
  {
   "cell_type": "code",
   "execution_count": null,
   "id": "5bd599e0-51cc-49fc-948b-a4fcb8c456d9",
   "metadata": {},
   "outputs": [],
   "source": [
    "df['Source'].unique()"
   ]
  },
  {
   "cell_type": "code",
   "execution_count": null,
   "id": "1785eb3e-1598-4a2c-b36e-fdc0954c94ca",
   "metadata": {},
   "outputs": [],
   "source": [
    "df['Destination'].unique()"
   ]
  },
  {
   "cell_type": "code",
   "execution_count": null,
   "id": "e062eeb8-3e87-4718-b818-b49a04ddd6d6",
   "metadata": {},
   "outputs": [],
   "source": [
    "df['Additional_Info'].unique()"
   ]
  },
  {
   "cell_type": "code",
   "execution_count": null,
   "id": "c99a08eb-6825-4cfe-b292-cdbe24676266",
   "metadata": {},
   "outputs": [],
   "source": [
    "from sklearn.preprocessing import OneHotEncoder\n",
    "encoder = OneHotEncoder()"
   ]
  },
  {
   "cell_type": "code",
   "execution_count": null,
   "id": "ab78cb99-783c-4766-8e92-95edcdfff991",
   "metadata": {},
   "outputs": [],
   "source": [
    "encoder.fit_transform(df[[\"Airline\", \"Destination\", \"Additional_Info\"]]).toarray()"
   ]
  },
  {
   "cell_type": "code",
   "execution_count": null,
   "id": "4f2ff4d2-b2cd-4f9d-a6f3-2dfca35b985e",
   "metadata": {},
   "outputs": [],
   "source": [
    "encoder.fit_transform(df[[\"Airline\", \"Destination\", \"Additional_Info\"]]).toarray()"
   ]
  },
  {
   "cell_type": "code",
   "execution_count": null,
   "id": "6cc3a8e9-ab3f-44fc-9d3c-6012e62b8dc8",
   "metadata": {},
   "outputs": [],
   "source": [
    "pd.DataFrame(encoder.fit_transform(df[[\"Airline\", \"Destination\", \"Additional_Info\"]]).toarray(), columns =encoder.get_feature_names_out())"
   ]
  },
  {
   "cell_type": "code",
   "execution_count": null,
   "id": "08081b8f-a8ca-473f-b13b-74d162309887",
   "metadata": {},
   "outputs": [],
   "source": []
  }
 ],
 "metadata": {
  "kernelspec": {
   "display_name": "Python 3 (ipykernel)",
   "language": "python",
   "name": "python3"
  },
  "language_info": {
   "codemirror_mode": {
    "name": "ipython",
    "version": 3
   },
   "file_extension": ".py",
   "mimetype": "text/x-python",
   "name": "python",
   "nbconvert_exporter": "python",
   "pygments_lexer": "ipython3",
   "version": "3.12.4"
  }
 },
 "nbformat": 4,
 "nbformat_minor": 5
}
