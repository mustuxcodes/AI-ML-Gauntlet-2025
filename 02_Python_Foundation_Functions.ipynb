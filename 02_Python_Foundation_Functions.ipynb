{
 "cells": [
  {
   "cell_type": "code",
   "execution_count": 3,
   "id": "5217217c-ef67-4e50-9198-e91cc58ec7ff",
   "metadata": {},
   "outputs": [
    {
     "name": "stdout",
     "output_type": "stream",
     "text": [
      "15\n"
     ]
    }
   ],
   "source": [
    "def sum(a,b):\n",
    "    return a+b\n",
    "\n",
    "summ = sum(5,10)\n",
    "print(summ)"
   ]
  },
  {
   "cell_type": "code",
   "execution_count": 5,
   "id": "49361664-28cf-444f-aacc-42713543dfe1",
   "metadata": {},
   "outputs": [
    {
     "name": "stdout",
     "output_type": "stream",
     "text": [
      "-5\n"
     ]
    }
   ],
   "source": [
    "def minus(a,b):\n",
    "    return a-b\n",
    "\n",
    "neg = minus(5,10)\n",
    "print(neg)"
   ]
  },
  {
   "cell_type": "code",
   "execution_count": 9,
   "id": "99b8d949-9f81-4cb6-a325-894adb42f4a9",
   "metadata": {},
   "outputs": [
    {
     "name": "stdout",
     "output_type": "stream",
     "text": [
      "300\n"
     ]
    }
   ],
   "source": [
    "def multiply(a,b):\n",
    "    return a*b\n",
    "\n",
    "mul = multiply(10,30)\n",
    "print(mul)"
   ]
  },
  {
   "cell_type": "code",
   "execution_count": 11,
   "id": "430c866b-2a7d-4c4f-9869-fae763eda66c",
   "metadata": {},
   "outputs": [
    {
     "name": "stdout",
     "output_type": "stream",
     "text": [
      "0.3333333333333333\n"
     ]
    }
   ],
   "source": [
    "def division(a,b):\n",
    "    return a/b\n",
    "\n",
    "div = division(10,30)\n",
    "print(div)"
   ]
  },
  {
   "cell_type": "code",
   "execution_count": 15,
   "id": "dd7bbe78-2f3c-4a60-a9a0-f65c399bf987",
   "metadata": {},
   "outputs": [
    {
     "name": "stdout",
     "output_type": "stream",
     "text": [
      "30.0\n"
     ]
    }
   ],
   "source": [
    "#avg of three numbers\n",
    "\n",
    "def avg (a,b,c):\n",
    "    d=3\n",
    "    return a+b+c/d\n",
    "\n",
    "avgg = avg(10,10,30)\n",
    "print(avgg)"
   ]
  },
  {
   "cell_type": "code",
   "execution_count": 19,
   "id": "3950ee93-5c87-42db-8e21-b673586f04ba",
   "metadata": {},
   "outputs": [
    {
     "name": "stdout",
     "output_type": "stream",
     "text": [
      "7\n",
      "7\n",
      "3\n",
      "3\n"
     ]
    }
   ],
   "source": [
    "#function to print length of a list\n",
    "\n",
    "players = [\"vk\",\"msd\", \"bobzy\", \"sharma\", \"mitch starc\", \"Joe root\", \"benjamin stokes\"]\n",
    "bowlers = [\"Shaheen\", \"Rauf\",\" Amir\"]\n",
    "\n",
    "def lenlist(list):\n",
    "    print(len(list))\n",
    "    return print(len(list))\n",
    "\n",
    "listt = lenlist(players)\n",
    "listbowlers = lenlist(bowlers)"
   ]
  },
  {
   "cell_type": "code",
   "execution_count": 37,
   "id": "48fb6e22-92b0-41f0-ad43-107aa67ed6bf",
   "metadata": {},
   "outputs": [
    {
     "name": "stdout",
     "output_type": "stream",
     "text": [
      "120\n"
     ]
    }
   ],
   "source": [
    "#function for finding factorial of any number\n",
    "\n",
    "def fact(n):\n",
    "    fct =1\n",
    "    for i in range (1,n+1):\n",
    "        fct *=i\n",
    "    print(fct)\n",
    "\n",
    "factorial = fact(5)"
   ]
  },
  {
   "cell_type": "code",
   "execution_count": 57,
   "id": "8d3ff987-1447-44ab-988c-4ab0f6622644",
   "metadata": {},
   "outputs": [
    {
     "name": "stdout",
     "output_type": "stream",
     "text": [
      "2820\n"
     ]
    }
   ],
   "source": [
    "#function for conversion usd to pkr\n",
    "\n",
    "def conversion(pkr):\n",
    "    usd = 282\n",
    "    print(pkr * usd)\n",
    "    return pkr * usd\n",
    "\n",
    "pkrvalue = conversion(10)"
   ]
  },
  {
   "cell_type": "code",
   "execution_count": 71,
   "id": "ff7380c4-32d9-4b58-9383-cf0753116c81",
   "metadata": {},
   "outputs": [
    {
     "name": "stdout",
     "output_type": "stream",
     "text": [
      "['sharma', 'mitch starc', 'Joe root', 'benjamin stokes']\n"
     ]
    }
   ],
   "source": [
    "#Write a function called find_long_words.\n",
    "\n",
    "#It should accept one argument: a list of strings (like your players list).\n",
    "\n",
    "#Inside the function, it should loop through the list.\n",
    "\n",
    "#It should build and return a new list containing only the words that have more than 5 characters.\n",
    "\n",
    "players = [\"vk\",\"msd\", \"bobzy\", \"sharma\", \"mitch starc\", \"Joe root\", \"benjamin stokes\"]\n",
    "bowlers = [\"Shaheen\", \"Rauf\",\" Amir\"]\n",
    "def find_long_words(list):\n",
    "    newlist = []\n",
    "    for word in list:\n",
    "        if len(word)>5: \n",
    "            newlist.append(word)\n",
    "    return newlist\n",
    "\n",
    "long_names = print(find_long_words(players))\n",
    "        "
   ]
  },
  {
   "cell_type": "code",
   "execution_count": 82,
   "id": "9702ee03-ae00-4aa7-96d5-993ee71a33df",
   "metadata": {},
   "outputs": [
    {
     "name": "stdout",
     "output_type": "stream",
     "text": [
      "['Asif', 'Fatima', 'Daud']\n"
     ]
    }
   ],
   "source": [
    "#Write a function named get_passing_students.\n",
    "\n",
    "#It should accept one argument: a list of student dictionaries.\n",
    "\n",
    "#Each dictionary will have a 'name' and a 'status' key. The status will be either 'pass' or 'fail'.\n",
    "\n",
    "#The function should loop through the list and return a new list containing only the names of the students whose status is 'pass'.\n",
    "\n",
    "student_roster = [\n",
    "    {'name': 'Asif', 'status': 'pass'},\n",
    "    {'name': 'Bilal', 'status': 'fail'},\n",
    "    {'name': 'Fatima', 'status': 'pass'},\n",
    "    {'name': 'Daud', 'status': 'pass'},\n",
    "    {'name': 'Ayesha', 'status': 'fail'}\n",
    "]\n",
    "\n",
    "def get_passing_students(list):\n",
    "    newlist=[]\n",
    "    for passorfail in list:\n",
    "        if passorfail['status'] == 'pass':\n",
    "            newlist.append(passorfail['name'])\n",
    "    return newlist\n",
    "\n",
    "passing_students = get_passing_students(student_roster)\n",
    "print(passing_students)\n",
    "        \n",
    "    "
   ]
  },
  {
   "cell_type": "code",
   "execution_count": null,
   "id": "abb4979c-fbf8-46cf-a53f-b26e908e78e6",
   "metadata": {},
   "outputs": [],
   "source": []
  },
  {
   "cell_type": "code",
   "execution_count": null,
   "id": "fb0f4a8c-b6e4-488f-b01b-958170a16373",
   "metadata": {},
   "outputs": [],
   "source": []
  }
 ],
 "metadata": {
  "kernelspec": {
   "display_name": "Python 3 (ipykernel)",
   "language": "python",
   "name": "python3"
  },
  "language_info": {
   "codemirror_mode": {
    "name": "ipython",
    "version": 3
   },
   "file_extension": ".py",
   "mimetype": "text/x-python",
   "name": "python",
   "nbconvert_exporter": "python",
   "pygments_lexer": "ipython3",
   "version": "3.12.4"
  }
 },
 "nbformat": 4,
 "nbformat_minor": 5
}
