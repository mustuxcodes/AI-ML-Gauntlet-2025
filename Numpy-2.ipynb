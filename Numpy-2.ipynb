{
 "cells": [
  {
   "cell_type": "code",
   "execution_count": 1,
   "id": "7ea1a274-3b0e-4016-bebe-f0ddf328245f",
   "metadata": {},
   "outputs": [],
   "source": [
    "import numpy as np"
   ]
  },
  {
   "cell_type": "code",
   "execution_count": 3,
   "id": "0bfe86c2-b390-4319-ad29-6816f4180e5a",
   "metadata": {},
   "outputs": [
    {
     "name": "stdout",
     "output_type": "stream",
     "text": [
      "this is 1d numpy array [1 2 3]\n"
     ]
    }
   ],
   "source": [
    "array_np = np.array([1,2,3])\n",
    "print(\"this is 1d numpy array\", array_np)"
   ]
  },
  {
   "cell_type": "code",
   "execution_count": 5,
   "id": "66d8d0c6-4357-4b0a-8f2a-9771e47e31f6",
   "metadata": {},
   "outputs": [
    {
     "name": "stdout",
     "output_type": "stream",
     "text": [
      "this is 2d numpy array [[1 2 3]\n",
      " [2 4 6]]\n"
     ]
    }
   ],
   "source": [
    "array_2d = np.array([[1,2,3],[2,4,6]])\n",
    "print(\"this is 2d numpy array\", array_2d)"
   ]
  },
  {
   "cell_type": "code",
   "execution_count": 7,
   "id": "f5d8c822-023a-4e9e-b78e-3e5448907ea4",
   "metadata": {},
   "outputs": [
    {
     "name": "stdout",
     "output_type": "stream",
     "text": [
      "this is 2d numpy array [[ 2  4  6]\n",
      " [ 4  8 12]]\n"
     ]
    }
   ],
   "source": [
    "#multiplication\n",
    "array_2d = np.array([[1,2,3],[2,4,6]])\n",
    "print(\"this is 2d numpy array\", array_2d *2)"
   ]
  },
  {
   "cell_type": "code",
   "execution_count": 11,
   "id": "3d95d6b1-a856-41fd-8e72-79103775c080",
   "metadata": {},
   "outputs": [
    {
     "name": "stdout",
     "output_type": "stream",
     "text": [
      "This is list multiplication [2, 3, 5, 2, 3, 5, 2, 3, 5]\n",
      "this is 2d numpy array [[ 5 10 15]\n",
      " [10 20 30]]\n"
     ]
    }
   ],
   "source": [
    "#diffrence between list multiplication and numpy multiplication\n",
    "\n",
    "listex = [2,3,5]\n",
    "print(\"This is list multiplication\", listex *3)\n",
    "\n",
    "array_2d = np.array([[1,2,3],[2,4,6]])\n",
    "print(\"this is 2d numpy array\", array_2d *5)"
   ]
  },
  {
   "cell_type": "code",
   "execution_count": 15,
   "id": "f17ee30b-7c31-4f67-a586-818bde363a45",
   "metadata": {},
   "outputs": [
    {
     "name": "stdout",
     "output_type": "stream",
     "text": [
      "This is time for the list 0.0748758316040039\n"
     ]
    }
   ],
   "source": [
    "#calculating time for list and numpy array\n",
    "\n",
    "import time\n",
    "start = time.time()\n",
    "py_list = [i*2 for i in range(1000000)]\n",
    "print(\"This is time for the list\", time.time() - start)"
   ]
  },
  {
   "cell_type": "code",
   "execution_count": 17,
   "id": "61aadcf9-26a6-4743-83ae-9e9f8960882b",
   "metadata": {},
   "outputs": [
    {
     "name": "stdout",
     "output_type": "stream",
     "text": [
      "This is time for the numpy operation 0.03117513656616211\n"
     ]
    }
   ],
   "source": [
    "import time\n",
    "start = time.time()\n",
    "py_array = np.arange(10000000)*2\n",
    "print(\"This is time for the numpy operation\", time.time() - start)"
   ]
  },
  {
   "cell_type": "code",
   "execution_count": 63,
   "id": "0b1fdbae-0ea0-4254-9de6-e2f90bbe2d59",
   "metadata": {},
   "outputs": [
    {
     "name": "stdout",
     "output_type": "stream",
     "text": [
      "This is vector:  [1 2 4]\n",
      "This is matrices:  [[1 5 9]\n",
      " [2 9 1]]\n"
     ]
    }
   ],
   "source": [
    "#now vectors. matrices, tensor\n",
    "\n",
    "#vector\n",
    "\n",
    "vector = np.array([1,2,4])\n",
    "print(\"This is vector: \", vector)\n",
    "\n",
    "#mtrix\n",
    "matrices = np.array([[1,5,9] ,\n",
    "                     [2,9,1]])\n",
    "print(\"This is matrices: \", matrices)\n",
    "\n",
    "#tensors\n",
    "#tenosor = [[[[1,5,9] ,\n",
    "  #       [2,9,1] ,\n",
    "  #          [2,9,1)]]]\n",
    "#print(\"This is tensor: \", tensor)\n"
   ]
  },
  {
   "cell_type": "code",
   "execution_count": 65,
   "id": "2992de88-0784-4a74-921d-6d913e7959fb",
   "metadata": {},
   "outputs": [
    {
     "name": "stdout",
     "output_type": "stream",
     "text": [
      "shape :  (2, 3)\n"
     ]
    }
   ],
   "source": [
    "## array properties\n",
    "\n",
    "matrices = np.array([[1,5,9] ,\n",
    "                     [2,9,1]])\n",
    "print(\"shape : \", matrices.shape)"
   ]
  },
  {
   "cell_type": "code",
   "execution_count": 67,
   "id": "cca0f6f6-8cb8-45a1-9258-d05cf3e11e9e",
   "metadata": {},
   "outputs": [
    {
     "name": "stdout",
     "output_type": "stream",
     "text": [
      "dimension of this arr is :  2\n"
     ]
    }
   ],
   "source": [
    "matrices = np.array([[1,5,9] ,\n",
    "                     [2,9,1]])\n",
    "print(\"dimension of this arr is : \", matrices.ndim)"
   ]
  },
  {
   "cell_type": "code",
   "execution_count": 69,
   "id": "d268d6c6-5dd2-41e2-be10-e622f5f3a066",
   "metadata": {},
   "outputs": [
    {
     "name": "stdout",
     "output_type": "stream",
     "text": [
      "reshaped of this arr is :  [[1 5]\n",
      " [9 2]\n",
      " [9 1]]\n"
     ]
    }
   ],
   "source": [
    "#reshaping an array\n",
    "matrices = np.array([[1,5,9] ,\n",
    "                     [2,9,1]])\n",
    "print(\"reshaped of this arr is : \", matrices.reshape((3,2)))\n"
   ]
  },
  {
   "cell_type": "code",
   "execution_count": 71,
   "id": "648e4e94-6eba-428b-b9cd-9e57a79ad72f",
   "metadata": {},
   "outputs": [
    {
     "name": "stdout",
     "output_type": "stream",
     "text": [
      "falttened of this arr is :  [1 5 9 2 9 1]\n"
     ]
    }
   ],
   "source": [
    "#reshaping an array\n",
    "matrices = np.array([[1,5,9] ,\n",
    "                     [2,9,1]])\n",
    "print(\"flttened of this arr is : \", matrices.flatten())\n"
   ]
  },
  {
   "cell_type": "code",
   "execution_count": 73,
   "id": "e1a81bda-ac5c-474d-bf95-95eba121a496",
   "metadata": {},
   "outputs": [
    {
     "name": "stdout",
     "output_type": "stream",
     "text": [
      "flttened of this arr is :  [[1 2]\n",
      " [5 9]\n",
      " [9 1]]\n"
     ]
    }
   ],
   "source": [
    "#transpore\n",
    "\n",
    "matrices = np.array([[1,5,9] ,\n",
    "                     [2,9,1]])\n",
    "print(\"flttened of this arr is : \", matrices.T)"
   ]
  },
  {
   "cell_type": "code",
   "execution_count": 75,
   "id": "94fd2202-fdb5-4aca-83de-9f2dd98e4fed",
   "metadata": {},
   "outputs": [],
   "source": [
    "#PHASE 2 OF NUMPY"
   ]
  },
  {
   "cell_type": "code",
   "execution_count": 79,
   "id": "dbd8408c-db28-4375-8523-58c36f0091ce",
   "metadata": {},
   "outputs": [
    {
     "name": "stdout",
     "output_type": "stream",
     "text": [
      "sorted array is here [  1.    5.    9.2  50.   60.  110. ]\n"
     ]
    }
   ],
   "source": [
    "#sorting in numpy 1d array\n",
    "\n",
    "matrices = np.array([1,5,9.20, 50, 60,110])\n",
    "print(\"sorted array is here\", np.sort(matrices))"
   ]
  },
  {
   "cell_type": "code",
   "execution_count": 99,
   "id": "211caf84-af55-4aeb-9ccc-4521109f04a9",
   "metadata": {},
   "outputs": [
    {
     "name": "stdout",
     "output_type": "stream",
     "text": [
      "This is sorted 2d array:  [[1 2 1]\n",
      " [2 5 6]\n",
      " [3 9 9]]\n"
     ]
    }
   ],
   "source": [
    "#sorting in numpy 2d array\n",
    "matrices = np.array([[1,5,9] ,\n",
    "                     [2,9,1],\n",
    "                     [3,2,6]])\n",
    "print(\"This is sorted 2d array: \", np.sort(matrices, axis=0))"
   ]
  },
  {
   "cell_type": "code",
   "execution_count": 105,
   "id": "1f2b3adf-498d-4fb9-931e-df2e70259a0a",
   "metadata": {},
   "outputs": [
    {
     "name": "stdout",
     "output_type": "stream",
     "text": [
      "[[ 1  2  3  4  5  6  7  8  9 10]]\n",
      "This is done with filtering with mask:  [ 6  7  8  9 10]\n",
      "This is done with filtering with mask:  [ 2  4  6  8 10]\n"
     ]
    }
   ],
   "source": [
    "#filtering in numpy\n",
    "arr = np.array([[1,2,3,4,5,6,7,8,9,10]])\n",
    "print(arr)\n",
    "\n",
    "#filtering with mask\n",
    "mask = arr >5\n",
    "print(\"This is done with filtering with mask: \", arr[mask])\n",
    "\n",
    "#normal filering\n",
    "evenno = arr[arr %2==0]\n",
    "print(\"This is done with filtering with mask: \", evenno)"
   ]
  },
  {
   "cell_type": "code",
   "execution_count": 117,
   "id": "a3a682d4-d63a-46db-aee2-cc8ee590aabf",
   "metadata": {},
   "outputs": [
    {
     "name": "stdout",
     "output_type": "stream",
     "text": [
      "This is done with where:  [ 6  7  8  9 10]\n"
     ]
    }
   ],
   "source": [
    "#where in numpy \n",
    "\n",
    "conditionalcheck = np.where(arr >5)\n",
    "print(\"This is done with where: \", arr[conditionalcheck])\n"
   ]
  },
  {
   "cell_type": "code",
   "execution_count": 119,
   "id": "f3ac027d-c943-44d3-8fbb-b45670456c85",
   "metadata": {},
   "outputs": [
    {
     "name": "stdout",
     "output_type": "stream",
     "text": [
      "conditional check is:  [[ 1  2  3  4  5 12 14 16 18 20]]\n"
     ]
    }
   ],
   "source": [
    "#This is done using another if else like where function\n",
    "conditionalcheck = np.where(arr>5, arr*2, arr)\n",
    "#the above part works like if else structure just like the sql one\n",
    "#here is how it is working, arr>5 <-- this is conditional check like if (condition)\n",
    "#arr*2 is like that if(){ arr*2) condition that will be exceute\n",
    "#arr is the else else part of if-else statement\n",
    "\n",
    "print(\"conditional check is: \", conditionalcheck)"
   ]
  },
  {
   "cell_type": "code",
   "execution_count": 123,
   "id": "3bcc9517-301a-48b7-a11c-1a3f6513a023",
   "metadata": {},
   "outputs": [
    {
     "name": "stdout",
     "output_type": "stream",
     "text": [
      "[1 2 3 4 5 6]\n"
     ]
    }
   ],
   "source": [
    "#combining two arrys using numpy\n",
    "\n",
    "arr1 = np.array([1,2,3])\n",
    "arr2 = np.array([4,5,6])\n",
    "\n",
    "combinedarray = np.concatenate((arr1,arr2))\n",
    "print(combinedarray)"
   ]
  },
  {
   "cell_type": "code",
   "execution_count": 131,
   "id": "62c37c25-ee22-4984-a814-b3e038d33302",
   "metadata": {},
   "outputs": [
    {
     "name": "stdout",
     "output_type": "stream",
     "text": [
      "[10 11 12 13 14 15 16 17 18 19 20 21 22 23 24 25 26 27 28 29]\n",
      "[[10 11 12 13 14]\n",
      " [15 16 17 18 19]\n",
      " [20 21 22 23 24]\n",
      " [25 26 27 28 29]]\n"
     ]
    }
   ],
   "source": [
    "#gemini question \n",
    "#Create a 1D NumPy array containing all the integers from 10 to 29.\n",
    "\n",
    "arr1 =np.array([10,11,12,13,14,15,16,17,18,19,20,21,22,23,24,25,26,27,28,29])\n",
    "print(arr1)\n",
    "\n",
    "#Reshape this array into a 4x5 matrix (4 rows, 5 columns).\n",
    "\n",
    "reshapedarray = arr1.reshape(4,5)\n",
    "print(reshapedarray)"
   ]
  },
  {
   "cell_type": "code",
   "execution_count": 151,
   "id": "1c42f232-d395-4aeb-b190-9d651c4b9d2b",
   "metadata": {},
   "outputs": [
    {
     "name": "stdout",
     "output_type": "stream",
     "text": [
      "this is after masked the values are this :  [[False False False False False]\n",
      " [False False False False False]\n",
      " [False False False  True  True]\n",
      " [ True  True  True  True  True]]\n",
      "this is after masked the values are this :  [23 24 25 26 27 28 29]\n",
      "182\n"
     ]
    }
   ],
   "source": [
    "#From this 4x5 matrix, create a \"mask\" to find all values that are greater than 22.\n",
    "masked = reshapedarray >22\n",
    "print(\"this is after masked the values are this : \", masked)\n",
    "\n",
    "mask = np.where(reshapedarray >22)\n",
    "print(\"this is after masked the values are this : \",reshapedarray[masked])\n",
    "\n",
    "sumis = np.sum(reshapedarray[masked], axis=0)\n",
    "print(sumis)"
   ]
  },
  {
   "cell_type": "code",
   "execution_count": null,
   "id": "9ea4fd34-50e1-4afe-839f-ad296bdcbe93",
   "metadata": {},
   "outputs": [],
   "source": []
  }
 ],
 "metadata": {
  "kernelspec": {
   "display_name": "Python 3 (ipykernel)",
   "language": "python",
   "name": "python3"
  },
  "language_info": {
   "codemirror_mode": {
    "name": "ipython",
    "version": 3
   },
   "file_extension": ".py",
   "mimetype": "text/x-python",
   "name": "python",
   "nbconvert_exporter": "python",
   "pygments_lexer": "ipython3",
   "version": "3.12.4"
  }
 },
 "nbformat": 4,
 "nbformat_minor": 5
}
