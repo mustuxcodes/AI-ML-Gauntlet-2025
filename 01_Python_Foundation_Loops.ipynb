{
 "cells": [
  {
   "cell_type": "code",
   "execution_count": 3,
   "id": "80c372d8-5e8c-4d65-bcfa-e00590eec119",
   "metadata": {},
   "outputs": [
    {
     "name": "stdout",
     "output_type": "stream",
     "text": [
      "vk\n",
      "hitman\n",
      "msd\n"
     ]
    }
   ],
   "source": [
    "players = [\"vk\", \"hitman\", \"msd\"]\n",
    "for player in players:\n",
    "    print(player)"
   ]
  },
  {
   "cell_type": "code",
   "execution_count": 5,
   "id": "60c7457c-2955-4f65-97d0-cf90d1a92e0d",
   "metadata": {},
   "outputs": [
    {
     "name": "stdout",
     "output_type": "stream",
     "text": [
      "pink\n",
      "red\n",
      "blue\n",
      "white\n"
     ]
    }
   ],
   "source": [
    "colors = [\"pink\", \"red\", \"blue\", \"white\"]\n",
    "for color in colors:\n",
    "    print(color)"
   ]
  },
  {
   "cell_type": "code",
   "execution_count": 15,
   "id": "e59dda21-808f-41fe-8d0e-c44c9ddb9b64",
   "metadata": {},
   "outputs": [
    {
     "name": "stdout",
     "output_type": "stream",
     "text": [
      "pink\n",
      "red\n",
      "blue\n"
     ]
    }
   ],
   "source": [
    "colors = [\"pink\", \"red\", \"blue\", \"white\"]\n",
    "for color in colors:\n",
    "    print(color)\n",
    "    if color == \"blue\":\n",
    "         break"
   ]
  },
  {
   "cell_type": "code",
   "execution_count": 79,
   "id": "9d10c4d5-4859-429e-9314-57f39b43d158",
   "metadata": {},
   "outputs": [
    {
     "name": "stdin",
     "output_type": "stream",
     "text": [
      "write the number of stars to print 2\n"
     ]
    },
    {
     "name": "stdout",
     "output_type": "stream",
     "text": [
      "*\n",
      "**\n"
     ]
    }
   ],
   "source": [
    "#printing staric now\n",
    "numberofstars = int(input(\"write the number of stars to print\"))\n",
    "\n",
    "if numberofstars ==2:\n",
    "    for i in range(1, 3):\n",
    "        print(\"*\" *i)\n",
    "elif numberofstars==5:\n",
    "    for i in range(1,6):\n",
    "        print(\"*\" *i)"
   ]
  },
  {
   "cell_type": "code",
   "execution_count": 95,
   "id": "8c0a0621-0f1a-4845-85df-509b17d994cc",
   "metadata": {},
   "outputs": [
    {
     "name": "stdin",
     "output_type": "stream",
     "text": [
      "enter stars to check 6\n"
     ]
    },
    {
     "name": "stdout",
     "output_type": "stream",
     "text": [
      "******\n",
      "*****\n",
      "****\n",
      "***\n",
      "**\n",
      "*\n"
     ]
    }
   ],
   "source": [
    "#now decreasing\n",
    "noofstars = int(input(\"enter stars to check\"))\n",
    "\n",
    "for i in range(noofstars,0,-1):\n",
    "        print(\"*\" * i)"
   ]
  },
  {
   "cell_type": "code",
   "execution_count": 111,
   "id": "e64cb86a-a0dd-4bab-b25c-5c424451df0f",
   "metadata": {},
   "outputs": [
    {
     "name": "stdin",
     "output_type": "stream",
     "text": [
      "write the number of stars to print 8\n"
     ]
    },
    {
     "name": "stdout",
     "output_type": "stream",
     "text": [
      "*\n",
      "**\n",
      "***\n",
      "****\n",
      "*****\n",
      "******\n",
      "*******\n"
     ]
    }
   ],
   "source": [
    "#printing increasing staric now\n",
    "numberofstars = int(input(\"write the number of stars to print\"))\n",
    "\n",
    "for i in range(1, numberofstars):\n",
    "    print(\"*\" *i)"
   ]
  },
  {
   "cell_type": "code",
   "execution_count": 133,
   "id": "e68d91b0-ee3a-4f83-aa6a-bb653871ea84",
   "metadata": {},
   "outputs": [
    {
     "name": "stdin",
     "output_type": "stream",
     "text": [
      "Enter the number 100\n"
     ]
    },
    {
     "name": "stdout",
     "output_type": "stream",
     "text": [
      "1\n",
      "2\n",
      "fizz\n",
      "4\n",
      "buzz\n",
      "fizz\n",
      "7\n",
      "8\n",
      "fizz\n",
      "buzz\n",
      "11\n",
      "fizz\n",
      "13\n",
      "14\n",
      "fizz\n",
      "16\n",
      "17\n",
      "fizz\n",
      "19\n",
      "buzz\n",
      "fizz\n",
      "22\n",
      "23\n",
      "fizz\n",
      "buzz\n",
      "26\n",
      "fizz\n",
      "28\n",
      "29\n",
      "fizz\n",
      "31\n",
      "32\n",
      "fizz\n",
      "34\n",
      "buzz\n",
      "fizz\n",
      "37\n",
      "38\n",
      "fizz\n",
      "buzz\n",
      "41\n",
      "fizz\n",
      "43\n",
      "44\n",
      "fizz\n",
      "46\n",
      "47\n",
      "fizz\n",
      "49\n",
      "buzz\n",
      "fizz\n",
      "52\n",
      "53\n",
      "fizz\n",
      "buzz\n",
      "56\n",
      "fizz\n",
      "58\n",
      "59\n",
      "fizz\n",
      "61\n",
      "62\n",
      "fizz\n",
      "64\n",
      "buzz\n",
      "fizz\n",
      "67\n",
      "68\n",
      "fizz\n",
      "buzz\n",
      "71\n",
      "fizz\n",
      "73\n",
      "74\n",
      "fizz\n",
      "76\n",
      "77\n",
      "fizz\n",
      "79\n",
      "buzz\n",
      "fizz\n",
      "82\n",
      "83\n",
      "fizz\n",
      "buzz\n",
      "86\n",
      "fizz\n",
      "88\n",
      "89\n",
      "fizz\n",
      "91\n",
      "92\n",
      "fizz\n",
      "94\n",
      "buzz\n",
      "fizz\n",
      "97\n",
      "98\n",
      "fizz\n"
     ]
    }
   ],
   "source": [
    "#fizzgame\n",
    "\n",
    "fizzgameinput = int(input(\"Enter the number\"))\n",
    "\n",
    "for fizz in range (1, fizzgameinput):\n",
    "    if fizz % 3 == 0:\n",
    "        print(\"fizz\")\n",
    "    elif fizz%5 ==0:\n",
    "        print(\"buzz\")\n",
    "    elif fizz %3 ==0 and fizz%5 ==0:\n",
    "        print(\"fizzbuzzzz\")\n",
    "    else:\n",
    "        print(fizz)"
   ]
  },
  {
   "cell_type": "code",
   "execution_count": 137,
   "id": "a128eb14-596e-4cd7-926a-59389cad5999",
   "metadata": {},
   "outputs": [
    {
     "name": "stdout",
     "output_type": "stream",
     "text": [
      "['a', 'b', 'c']\n",
      "a\n",
      "b\n",
      "c\n",
      "['d', 'e', 'f']\n",
      "d\n",
      "e\n",
      "f\n",
      "['g', 'h', 'i']\n",
      "g\n",
      "h\n",
      "i\n"
     ]
    }
   ],
   "source": [
    "#nested for loop\n",
    "list_of_lists = [\n",
    "    ['a', 'b', 'c'],\n",
    "    ['d', 'e', 'f'],\n",
    "    ['g', 'h', 'i']\n",
    "]\n",
    "\n",
    "for lst in list_of_lists:\n",
    "    print(lst)\n",
    "    for last in lst:\n",
    "        print(last)"
   ]
  },
  {
   "cell_type": "code",
   "execution_count": 183,
   "id": "20872104-3267-4398-9067-0643240bc7ef",
   "metadata": {},
   "outputs": [
    {
     "name": "stdout",
     "output_type": "stream",
     "text": [
      "['a', 'b', 'c', 'd', 'e', 'f', 'g', 'h', 'i']\n"
     ]
    }
   ],
   "source": [
    "list_of_lists = [\n",
    "    ['a', 'b', 'c'],\n",
    "    ['d', 'e', 'f'],\n",
    "    ['g', 'h', 'i']\n",
    "]\n",
    "listss= []\n",
    "for lists in list_of_lists:\n",
    "    for lst in lists:\n",
    "        listss.append(lst)\n",
    "\n",
    "print(listss)"
   ]
  },
  {
   "cell_type": "code",
   "execution_count": null,
   "id": "05989daa-a2a7-46fe-a808-85f60087bf21",
   "metadata": {},
   "outputs": [],
   "source": []
  }
 ],
 "metadata": {
  "kernelspec": {
   "display_name": "Python 3 (ipykernel)",
   "language": "python",
   "name": "python3"
  },
  "language_info": {
   "codemirror_mode": {
    "name": "ipython",
    "version": 3
   },
   "file_extension": ".py",
   "mimetype": "text/x-python",
   "name": "python",
   "nbconvert_exporter": "python",
   "pygments_lexer": "ipython3",
   "version": "3.12.4"
  }
 },
 "nbformat": 4,
 "nbformat_minor": 5
}
